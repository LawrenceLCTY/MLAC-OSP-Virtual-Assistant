{
 "cells": [
  {
   "cell_type": "markdown",
   "metadata": {},
   "source": [
    "Readme.md"
   ]
  },
  {
   "cell_type": "markdown",
   "metadata": {},
   "source": [
    "Install packages"
   ]
  },
  {
   "cell_type": "code",
   "execution_count": 1,
   "metadata": {},
   "outputs": [
    {
     "name": "stdout",
     "output_type": "stream",
     "text": [
      "Requirement already satisfied: speechRecognition in c:\\users\\lawre\\appdata\\local\\programs\\python\\python310\\lib\\site-packages (3.8.1)\n"
     ]
    },
    {
     "name": "stderr",
     "output_type": "stream",
     "text": [
      "WARNING: There was an error checking the latest version of pip.\n"
     ]
    },
    {
     "name": "stdout",
     "output_type": "stream",
     "text": [
      "Requirement already satisfied: pyttsx3 in c:\\users\\lawre\\appdata\\local\\programs\\python\\python310\\lib\\site-packages (2.90)\n",
      "Requirement already satisfied: comtypes in c:\\users\\lawre\\appdata\\local\\programs\\python\\python310\\lib\\site-packages (from pyttsx3) (1.1.14)\n",
      "Requirement already satisfied: pywin32 in c:\\users\\lawre\\appdata\\local\\programs\\python\\python310\\lib\\site-packages (from pyttsx3) (304)\n",
      "Requirement already satisfied: pypiwin32 in c:\\users\\lawre\\appdata\\local\\programs\\python\\python310\\lib\\site-packages (from pyttsx3) (223)\n"
     ]
    },
    {
     "name": "stderr",
     "output_type": "stream",
     "text": [
      "WARNING: There was an error checking the latest version of pip.\n"
     ]
    },
    {
     "name": "stdout",
     "output_type": "stream",
     "text": [
      "Requirement already satisfied: pywhatkit in c:\\users\\lawre\\appdata\\local\\programs\\python\\python310\\lib\\site-packages (5.4)\n",
      "Requirement already satisfied: requests in c:\\users\\lawre\\appdata\\local\\programs\\python\\python310\\lib\\site-packages (from pywhatkit) (2.27.1)\n",
      "Requirement already satisfied: Pillow in c:\\users\\lawre\\appdata\\local\\programs\\python\\python310\\lib\\site-packages (from pywhatkit) (9.1.1)\n",
      "Requirement already satisfied: Flask in c:\\users\\lawre\\appdata\\local\\programs\\python\\python310\\lib\\site-packages (from pywhatkit) (2.2.2)\n",
      "Requirement already satisfied: pyautogui in c:\\users\\lawre\\appdata\\local\\programs\\python\\python310\\lib\\site-packages (from pywhatkit) (0.9.53)\n",
      "Requirement already satisfied: wikipedia in c:\\users\\lawre\\appdata\\local\\programs\\python\\python310\\lib\\site-packages (from pywhatkit) (1.4.0)\n",
      "Requirement already satisfied: Werkzeug>=2.2.2 in c:\\users\\lawre\\appdata\\local\\programs\\python\\python310\\lib\\site-packages (from Flask->pywhatkit) (2.2.2)\n",
      "Requirement already satisfied: Jinja2>=3.0 in c:\\users\\lawre\\appdata\\local\\programs\\python\\python310\\lib\\site-packages (from Flask->pywhatkit) (3.1.2)\n",
      "Requirement already satisfied: itsdangerous>=2.0 in c:\\users\\lawre\\appdata\\local\\programs\\python\\python310\\lib\\site-packages (from Flask->pywhatkit) (2.1.2)\n",
      "Requirement already satisfied: click>=8.0 in c:\\users\\lawre\\appdata\\local\\programs\\python\\python310\\lib\\site-packages (from Flask->pywhatkit) (8.1.3)\n",
      "Requirement already satisfied: pyscreeze>=0.1.21 in c:\\users\\lawre\\appdata\\local\\programs\\python\\python310\\lib\\site-packages (from pyautogui->pywhatkit) (0.1.28)\n",
      "Requirement already satisfied: mouseinfo in c:\\users\\lawre\\appdata\\local\\programs\\python\\python310\\lib\\site-packages (from pyautogui->pywhatkit) (0.1.3)\n",
      "Requirement already satisfied: pymsgbox in c:\\users\\lawre\\appdata\\local\\programs\\python\\python310\\lib\\site-packages (from pyautogui->pywhatkit) (1.0.9)\n",
      "Requirement already satisfied: pygetwindow>=0.0.5 in c:\\users\\lawre\\appdata\\local\\programs\\python\\python310\\lib\\site-packages (from pyautogui->pywhatkit) (0.0.9)\n",
      "Requirement already satisfied: PyTweening>=1.0.1 in c:\\users\\lawre\\appdata\\local\\programs\\python\\python310\\lib\\site-packages (from pyautogui->pywhatkit) (1.0.4)\n",
      "Requirement already satisfied: urllib3<1.27,>=1.21.1 in c:\\users\\lawre\\appdata\\local\\programs\\python\\python310\\lib\\site-packages (from requests->pywhatkit) (1.26.9)\n",
      "Requirement already satisfied: idna<4,>=2.5 in c:\\users\\lawre\\appdata\\local\\programs\\python\\python310\\lib\\site-packages (from requests->pywhatkit) (3.3)\n",
      "Requirement already satisfied: certifi>=2017.4.17 in c:\\users\\lawre\\appdata\\local\\programs\\python\\python310\\lib\\site-packages (from requests->pywhatkit) (2022.5.18.1)\n",
      "Requirement already satisfied: charset-normalizer~=2.0.0 in c:\\users\\lawre\\appdata\\local\\programs\\python\\python310\\lib\\site-packages (from requests->pywhatkit) (2.0.12)\n",
      "Requirement already satisfied: beautifulsoup4 in c:\\users\\lawre\\appdata\\local\\programs\\python\\python310\\lib\\site-packages (from wikipedia->pywhatkit) (4.11.1)\n",
      "Requirement already satisfied: colorama in c:\\users\\lawre\\appdata\\local\\programs\\python\\python310\\lib\\site-packages (from click>=8.0->Flask->pywhatkit) (0.4.4)\n",
      "Requirement already satisfied: MarkupSafe>=2.0 in c:\\users\\lawre\\appdata\\local\\programs\\python\\python310\\lib\\site-packages (from Jinja2>=3.0->Flask->pywhatkit) (2.1.1)\n",
      "Requirement already satisfied: pyrect in c:\\users\\lawre\\appdata\\local\\programs\\python\\python310\\lib\\site-packages (from pygetwindow>=0.0.5->pyautogui->pywhatkit) (0.2.0)\n",
      "Requirement already satisfied: soupsieve>1.2 in c:\\users\\lawre\\appdata\\local\\programs\\python\\python310\\lib\\site-packages (from beautifulsoup4->wikipedia->pywhatkit) (2.3.2.post1)\n",
      "Requirement already satisfied: pyperclip in c:\\users\\lawre\\appdata\\local\\programs\\python\\python310\\lib\\site-packages (from mouseinfo->pyautogui->pywhatkit) (1.8.2)\n"
     ]
    },
    {
     "name": "stderr",
     "output_type": "stream",
     "text": [
      "WARNING: There was an error checking the latest version of pip.\n"
     ]
    },
    {
     "name": "stdout",
     "output_type": "stream",
     "text": [
      "Requirement already satisfied: wikipedia in c:\\users\\lawre\\appdata\\local\\programs\\python\\python310\\lib\\site-packages (1.4.0)\n",
      "Requirement already satisfied: beautifulsoup4 in c:\\users\\lawre\\appdata\\local\\programs\\python\\python310\\lib\\site-packages (from wikipedia) (4.11.1)\n",
      "Requirement already satisfied: requests<3.0.0,>=2.0.0 in c:\\users\\lawre\\appdata\\local\\programs\\python\\python310\\lib\\site-packages (from wikipedia) (2.27.1)\n",
      "Requirement already satisfied: urllib3<1.27,>=1.21.1 in c:\\users\\lawre\\appdata\\local\\programs\\python\\python310\\lib\\site-packages (from requests<3.0.0,>=2.0.0->wikipedia) (1.26.9)\n",
      "Requirement already satisfied: certifi>=2017.4.17 in c:\\users\\lawre\\appdata\\local\\programs\\python\\python310\\lib\\site-packages (from requests<3.0.0,>=2.0.0->wikipedia) (2022.5.18.1)\n",
      "Requirement already satisfied: idna<4,>=2.5 in c:\\users\\lawre\\appdata\\local\\programs\\python\\python310\\lib\\site-packages (from requests<3.0.0,>=2.0.0->wikipedia) (3.3)\n",
      "Requirement already satisfied: charset-normalizer~=2.0.0 in c:\\users\\lawre\\appdata\\local\\programs\\python\\python310\\lib\\site-packages (from requests<3.0.0,>=2.0.0->wikipedia) (2.0.12)\n",
      "Requirement already satisfied: soupsieve>1.2 in c:\\users\\lawre\\appdata\\local\\programs\\python\\python310\\lib\\site-packages (from beautifulsoup4->wikipedia) (2.3.2.post1)\n"
     ]
    },
    {
     "name": "stderr",
     "output_type": "stream",
     "text": [
      "WARNING: There was an error checking the latest version of pip.\n"
     ]
    },
    {
     "name": "stdout",
     "output_type": "stream",
     "text": [
      "Requirement already satisfied: pyjokes in c:\\users\\lawre\\appdata\\local\\programs\\python\\python310\\lib\\site-packages (0.6.0)\n"
     ]
    },
    {
     "name": "stderr",
     "output_type": "stream",
     "text": [
      "WARNING: There was an error checking the latest version of pip.\n"
     ]
    },
    {
     "name": "stdout",
     "output_type": "stream",
     "text": [
      "Requirement already satisfied: pyAudio in c:\\users\\lawre\\appdata\\local\\programs\\python\\python310\\lib\\site-packages (0.2.12)\n"
     ]
    },
    {
     "name": "stderr",
     "output_type": "stream",
     "text": [
      "WARNING: There was an error checking the latest version of pip.\n",
      "ERROR: Could not find a version that satisfies the requirement webbrowser (from versions: none)\n",
      "ERROR: No matching distribution found for webbrowser\n",
      "WARNING: There was an error checking the latest version of pip.\n"
     ]
    }
   ],
   "source": [
    "!pip3 install speechRecognition\n",
    "!pip3 install pyttsx3\n",
    "!pip3 install pywhatkit\n",
    "!pip3 install wikipedia\n",
    "!pip3 install pyjokes\n",
    "!pip3 install pyAudio\n",
    "!pip3 install webbrowser"
   ]
  },
  {
   "cell_type": "markdown",
   "metadata": {},
   "source": [
    "Import libraries"
   ]
  },
  {
   "cell_type": "code",
   "execution_count": 24,
   "metadata": {},
   "outputs": [],
   "source": [
    "import speech_recognition as sr\n",
    "import pyttsx3\n",
    "import pywhatkit\n",
    "import datetime\n",
    "import time\n",
    "import wikipedia\n",
    "import pyjokes\n",
    "import sys\n",
    "import webbrowser"
   ]
  },
  {
   "cell_type": "markdown",
   "metadata": {},
   "source": [
    "Voice AI Setup"
   ]
  },
  {
   "cell_type": "code",
   "execution_count": 3,
   "metadata": {},
   "outputs": [],
   "source": [
    "listener = sr.Recognizer()\n",
    "engine = pyttsx3.init()\n",
    "voices = engine.getProperty('voices')\n",
    "engine.setProperty('voice', voices[1].id)\n",
    "commands_dict = {}"
   ]
  },
  {
   "cell_type": "markdown",
   "metadata": {},
   "source": [
    "AI core functions"
   ]
  },
  {
   "cell_type": "code",
   "execution_count": 4,
   "metadata": {},
   "outputs": [],
   "source": [
    "def talk(text):\n",
    "    print(text)\n",
    "    engine.say(text)\n",
    "    engine.runAndWait()\n",
    "\n",
    "\n",
    "def take_command():\n",
    "    try:\n",
    "        with sr.Microphone() as source:\n",
    "            print('listening...')\n",
    "            voice = listener.listen(source)\n",
    "            command = listener.recognize_google(voice)\n",
    "            command = command.lower()\n",
    "            if 'alexa' in command:\n",
    "                command = command.replace('alexa', '')\n",
    "                print(command)\n",
    "    except:\n",
    "        command = ''\n",
    "    return command\n",
    "\n",
    "def run_alexa():\n",
    "    talk('How can I help you?')\n",
    "    command = take_command()\n",
    "    found = False\n",
    "    for keyword in commands_dict:\n",
    "        if keyword in command: \n",
    "            try:\n",
    "                commands_dict[keyword]()\n",
    "            except TypeError: #take function with 0 or 1 parameters\n",
    "                commands_dict[keyword](command)\n",
    "            found = True\n",
    "    if not found:\n",
    "        commands_dict['repeat_cmd']()\n",
    "    time.sleep(1) #brief pause between commands\n"
   ]
  },
  {
   "cell_type": "markdown",
   "metadata": {},
   "source": [
    "### *function_template()*\n",
    "\n",
    "Author: ***Your_Name*** (*your_email@youremail.com*)\n",
    "\n",
    "Description: \n",
    "> *Duplicate this markdown cell and change the **italicised** contents with your credentials and function description*."
   ]
  },
  {
   "cell_type": "code",
   "execution_count": 5,
   "metadata": {},
   "outputs": [],
   "source": [
    "def template_function():\n",
    "    #YOUR CODE HERE\n",
    "    talk('replace this string with what you want the virtual assistant to say')\n",
    "commands_dict['keyword(s) in speech'] = template_function"
   ]
  },
  {
   "cell_type": "markdown",
   "metadata": {},
   "source": [
    "### repeat_cmd()\n",
    "\n",
    "Author: **LawrenceLCTY** (lawrencechiengtzeyao@gmail.com)\n",
    "\n",
    "Description: \n",
    "> The default command called when no commands match the input speech."
   ]
  },
  {
   "cell_type": "code",
   "execution_count": 6,
   "metadata": {},
   "outputs": [],
   "source": [
    "def repeat_cmd():\n",
    "    talk('Please say the command again.')\n",
    "commands_dict['repeat_cmd'] = repeat_cmd"
   ]
  },
  {
   "cell_type": "markdown",
   "metadata": {},
   "source": [
    "### bye()\n",
    "\n",
    "Author: **LawrenceLCTY** (lawrencechiengtzeyao@gmail.com)\n",
    "\n",
    "Description: \n",
    "> Command to end Virtual Assistant program."
   ]
  },
  {
   "cell_type": "code",
   "execution_count": 7,
   "metadata": {},
   "outputs": [],
   "source": [
    "def bye():\n",
    "    talk('Goodbye.')\n",
    "    sys.exit()\n",
    "commands_dict['bye'] = bye"
   ]
  },
  {
   "attachments": {},
   "cell_type": "markdown",
   "metadata": {},
   "source": [
    "### play()\n",
    "\n",
    "Author: **Hong Jing Xuan** (22004827@siswa.um.edu.my)\n",
    "\n",
    "Description: \n",
    "> to play song on youtube."
   ]
  },
  {
   "cell_type": "code",
   "execution_count": 8,
   "metadata": {},
   "outputs": [],
   "source": [
    "def play(command):\n",
    "    song=command.replace('play','')\n",
    "    talk('playing' +song)\n",
    "    pywhatkit.playonyt(song)\n",
    "commands_dict['play'] = play"
   ]
  },
  {
   "attachments": {},
   "cell_type": "markdown",
   "metadata": {},
   "source": [
    "### love()\n",
    "\n",
    "Author: **LIM KAR WENG** (22004879@siswa.um.edu.my)\n",
    "\n",
    "Description: \n",
    "> It makes the bot execute the function love when \"love\" speech is detected"
   ]
  },
  {
   "cell_type": "code",
   "execution_count": 9,
   "metadata": {},
   "outputs": [],
   "source": [
    "def love():\n",
    "    talk('I really love machine learning.')\n",
    "\n",
    "commands_dict['love'] = love"
   ]
  },
  {
   "attachments": {},
   "cell_type": "markdown",
   "metadata": {},
   "source": [
    "### msia_pm()\n",
    "\n",
    "Author: **Joshua Lim Chiew Khoon** (jlck1@outlook.com)\n",
    "\n",
    "Description: \n",
    "> Has virtual assistant say \"Anwar Ibrahim\" when \"current Malaysia prime minister\" keyword is present in speech."
   ]
  },
  {
   "cell_type": "code",
   "execution_count": 10,
   "metadata": {},
   "outputs": [],
   "source": [
    "def msia_pm():\n",
    "    talk('Anwar Ibrahim')\n",
    "    \n",
    "commands_dict['current Malaysia prime minister'] = msia_pm"
   ]
  },
  {
   "attachments": {},
   "cell_type": "markdown",
   "metadata": {},
   "source": [
    "### pickupline()\n",
    "\n",
    "Author: **Wan Ahmad Lutfi Bin Wan Azinuddin** (u2101912@siswa.um.edu.my)\n",
    "\n",
    "Description: \n",
    "> Let Alexa to tell a pickup line."
   ]
  },
  {
   "cell_type": "code",
   "execution_count": 11,
   "metadata": {},
   "outputs": [],
   "source": [
    "def pickupline():\n",
    "    talk('A life without you, would be like a computer without an OS.')\n",
    "commands_dict['pickupline'] = pickupline"
   ]
  },
  {
   "attachments": {},
   "cell_type": "markdown",
   "metadata": {},
   "source": [
    "### marriage()\n",
    "\n",
    "Author: **NAIM WIRDAS BIN NAZARUDIN** (u2100937@siswa.um.edu.my)\n",
    "\n",
    "Description: \n",
    "> Ask Alexa if she wants to marry you."
   ]
  },
  {
   "cell_type": "code",
   "execution_count": 12,
   "metadata": {},
   "outputs": [],
   "source": [
    "def marriage():\n",
    "    talk('YES, I want to marry you sayang')\n",
    "commands_dict['marry me'] = marriage"
   ]
  },
  {
   "attachments": {},
   "cell_type": "markdown",
   "metadata": {},
   "source": [
    "### friend()\n",
    "\n",
    "Author: **Rudzaidan Bin Rosli @ Rosdi** (U2002236@siswa.um.edu.my)\n",
    "\n",
    "Description: \n",
    "> It's a code for Alexa to aggressively mention that nobody wants to be friends with you <3"
   ]
  },
  {
   "cell_type": "code",
   "execution_count": 13,
   "metadata": {},
   "outputs": [],
   "source": [
    "def friend():\n",
    "  talk('Who would want to be friends with a loser like u lol')\n",
    "commands_dict['be friends'] = friend"
   ]
  },
  {
   "attachments": {},
   "cell_type": "markdown",
   "metadata": {},
   "source": [
    "### assignment()\n",
    "\n",
    "Author: **Law Zhen Min** (ahchunlaw@gmail.com)\n",
    "\n",
    "Description: \n",
    "> Answer for any question regarding their assignment."
   ]
  },
  {
   "cell_type": "code",
   "execution_count": 14,
   "metadata": {},
   "outputs": [],
   "source": [
    "def assignment():\n",
    "    talk(\"Go ask my senior google.\")\n",
    "\n",
    "commands_dict['assignment'] = commands_dict['homework'] = assignment"
   ]
  },
  {
   "attachments": {},
   "cell_type": "markdown",
   "metadata": {},
   "source": [
    "### time()\n",
    "\n",
    "Author: **JOANNE LIM ZI XUAN** (joannelimzixuan@gmail.com)\n",
    "\n",
    "Description: \n",
    "> Command to tell the time"
   ]
  },
  {
   "cell_type": "code",
   "execution_count": 15,
   "metadata": {},
   "outputs": [],
   "source": [
    "def time():\n",
    "    time = datetime.datetime.now().strftime('%I:%M %p')\n",
    "    talk('Current time is ' + time)\n",
    "\n",
    "commands_dict['time'] = time"
   ]
  },
  {
   "attachments": {},
   "cell_type": "markdown",
   "metadata": {},
   "source": [
    "### UM()\n",
    "\n",
    "Author: **Gan Serene** (yibuvee@gmail.com)\n",
    "\n",
    "Description: \n",
    "> say \"is one\" when detect \"UM\""
   ]
  },
  {
   "cell_type": "code",
   "execution_count": 16,
   "metadata": {},
   "outputs": [],
   "source": [
    "def UM():\n",
    "    talk('is one')\n",
    "\n",
    "commands_dict['U M'] = UM"
   ]
  },
  {
   "attachments": {},
   "cell_type": "markdown",
   "metadata": {},
   "source": [
    "### meet()\n",
    "\n",
    "Author: **WONG XIU HUAN** (xiuhuan545@gmail.com)\n",
    "\n",
    "Description: \n",
    "> I say \"Nice to meet you\" and will get back answer \"Me too\"."
   ]
  },
  {
   "cell_type": "code",
   "execution_count": 17,
   "metadata": {},
   "outputs": [],
   "source": [
    "def meet():\n",
    "    talk('Me too.')\n",
    "    \n",
    "commands_dict['Nice to meet you'] = meet"
   ]
  },
  {
   "attachments": {},
   "cell_type": "markdown",
   "metadata": {},
   "source": [
    "### open_google()\n",
    "\n",
    "Author: **CHAI YU XUAN** (yxuannchai@gmail.com)\n",
    "\n",
    "Description: \n",
    "> Command to open Google"
   ]
  },
  {
   "cell_type": "code",
   "execution_count": 18,
   "metadata": {},
   "outputs": [],
   "source": [
    "def open_google():\n",
    "    talk('Opening Google.')\n",
    "    webbrowser.open('www.google.com')\n",
    "\n",
    "commands_dict['open google'] = open_google"
   ]
  },
  {
   "attachments": {},
   "cell_type": "markdown",
   "metadata": {},
   "source": [
    "### happy_birthday()\n",
    "\n",
    "Author: **GOH YU HENG** (22004880@siswa.um.edu.my)\n",
    "\n",
    "Description: \n",
    "> When the user say that today is his birthday, it will say happy birthday and wish you hava a nice day."
   ]
  },
  {
   "cell_type": "code",
   "execution_count": 19,
   "metadata": {},
   "outputs": [],
   "source": [
    "def happy_birthday():\n",
    "    talk('Happy Birthday and wish you have a nice day')\n",
    "\n",
    "commands_dict['Today is my birthday '] = happy_birthday"
   ]
  },
  {
   "attachments": {},
   "cell_type": "markdown",
   "metadata": {},
   "source": [
    "### write_a_note()\n",
    "\n",
    "Author: **Lee Pei Hui** (22004781@siswa.um.edu.my)\n",
    "\n",
    "Description: \n",
    "> This code take command and write a note."
   ]
  },
  {
   "cell_type": "code",
   "execution_count": 20,
   "metadata": {},
   "outputs": [],
   "source": [
    "def write_a_note():\n",
    "    talk(\"What should i write?\")\n",
    "    note = take_command()\n",
    "    file = open('jarvis.txt', 'w')\n",
    "    talk(\"Should i include date and time?\")\n",
    "    snfm = take_command()\n",
    "    if 'yes' in snfm or 'sure' in snfm:\n",
    "        strTime = datetime.datetime.now().strftime(\"%d/%m/%Y(%a) %H:%M:%S\")\n",
    "        file.write(strTime + \" :- \")\n",
    "    file.write(note)\n",
    "    file.close()\n",
    "    talk(\"Note written.\")\n",
    "    \n",
    "commands_dict['write a note'] = write_a_note"
   ]
  },
  {
   "attachments": {},
   "cell_type": "markdown",
   "metadata": {},
   "source": [
    "### age()\n",
    "\n",
    "Author: **Looi Yu Heng** (looiyuheng1234@gmail.com)\n",
    "\n",
    "Description: \n",
    "> Respond the age when user ask."
   ]
  },
  {
   "cell_type": "code",
   "execution_count": 21,
   "metadata": {},
   "outputs": [],
   "source": [
    "def age():\n",
    "    talk('I am always 18 years old.')\n",
    "\n",
    "commands_dict['your age'] = age"
   ]
  },
  {
   "attachments": {},
   "cell_type": "markdown",
   "metadata": {},
   "source": [
    "### learn_spanish()\n",
    "\n",
    "Author: **TIEW CHEE YAN** (tiewcheeyan@gmail.com)\n",
    "\n",
    "Description: \n",
    ">  Command to translate and say hello and how are you in spanish to user."
   ]
  },
  {
   "cell_type": "code",
   "execution_count": 22,
   "metadata": {},
   "outputs": [],
   "source": [
    "def learn_spanish( ):\n",
    "   talk('Hola, ¿cómo estás?')\n",
    "\n",
    "commands_dict['How to say hello and how are you in spanish'] = learn_spanish"
   ]
  },
  {
   "cell_type": "code",
   "execution_count": null,
   "metadata": {},
   "outputs": [],
   "source": [
    "while True:\n",
    "    run_alexa()"
   ]
  }
 ],
 "metadata": {
  "kernelspec": {
   "display_name": "Python 3.10.4 64-bit",
   "language": "python",
   "name": "python3"
  },
  "language_info": {
   "codemirror_mode": {
    "name": "ipython",
    "version": 3
   },
   "file_extension": ".py",
   "mimetype": "text/x-python",
   "name": "python",
   "nbconvert_exporter": "python",
   "pygments_lexer": "ipython3",
   "version": "3.10.4"
  },
  "orig_nbformat": 4,
  "vscode": {
   "interpreter": {
    "hash": "2a7fba9a6c0a950abf365867c7e624f8835f59819b1807f4657be83de120bbe8"
   }
  }
 },
 "nbformat": 4,
 "nbformat_minor": 2
}

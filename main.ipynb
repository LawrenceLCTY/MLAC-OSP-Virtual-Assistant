{
 "cells": [
  {
   "cell_type": "markdown",
   "metadata": {},
   "source": [
    "Readme.md"
   ]
  },
  {
   "cell_type": "markdown",
   "metadata": {},
   "source": [
    "Install packages"
   ]
  },
  {
   "cell_type": "code",
   "execution_count": null,
   "metadata": {},
   "outputs": [],
   "source": [
    "!pip3 install speechRecognition\n",
    "!pip3 install pyttsx3\n",
    "!pip3 install pywhatkit\n",
    "!pip3 install wikipedia\n",
    "!pip3 install pyjokes\n",
    "!pip3 install pyAudio"
   ]
  },
  {
   "cell_type": "markdown",
   "metadata": {},
   "source": [
    "Import libraries"
   ]
  },
  {
   "cell_type": "code",
   "execution_count": 12,
   "metadata": {},
   "outputs": [],
   "source": [
    "import speech_recognition as sr\n",
    "import pyttsx3\n",
    "import pywhatkit\n",
    "import datetime\n",
    "import time\n",
    "import wikipedia\n",
    "import pyjokes\n",
    "import sys"
   ]
  },
  {
   "cell_type": "markdown",
   "metadata": {},
   "source": [
    "Voice AI Setup"
   ]
  },
  {
   "cell_type": "code",
   "execution_count": 13,
   "metadata": {},
   "outputs": [],
   "source": [
    "listener = sr.Recognizer()\n",
    "engine = pyttsx3.init()\n",
    "voices = engine.getProperty('voices')\n",
    "engine.setProperty('voice', voices[1].id)\n",
    "commands_dict = {}"
   ]
  },
  {
   "cell_type": "markdown",
   "metadata": {},
   "source": [
    "AI core functions"
   ]
  },
  {
   "cell_type": "code",
   "execution_count": 20,
   "metadata": {},
   "outputs": [],
   "source": [
    "def talk(text):\n",
    "    print(text)\n",
    "    engine.say(text)\n",
    "    engine.runAndWait()\n",
    "\n",
    "\n",
    "def take_command():\n",
    "    try:\n",
    "        with sr.Microphone() as source:\n",
    "            print('listening...')\n",
    "            voice = listener.listen(source)\n",
    "            command = listener.recognize_google(voice)\n",
    "            command = command.lower()\n",
    "            if 'alexa' in command:\n",
    "                command = command.replace('alexa', '')\n",
    "                print(command)\n",
    "    except:\n",
    "        command = ''\n",
    "    return command\n",
    "\n",
    "def run_alexa():\n",
    "    talk('How can I help you?')\n",
    "    command = take_command()\n",
    "    found = False\n",
    "    for keyword in commands_dict:\n",
    "        if keyword in command: \n",
    "            try:\n",
    "                commands_dict[keyword]()\n",
    "            except TypeError: #take function with 0 or 1 parameters\n",
    "                commands_dict[keyword](command)\n",
    "            found = True\n",
    "    if not found:\n",
    "        commands_dict['repeat_cmd']()\n",
    "    time.sleep(1) #brief pause between commands\n"
   ]
  },
  {
   "cell_type": "markdown",
   "metadata": {},
   "source": [
    "### *function_template()*\n",
    "\n",
    "Author: ***Your_Name*** (*your_email@youremail.com*)\n",
    "\n",
    "Description: \n",
    "> *Duplicate this markdown cell and change the **italicised** contents with your credentials and function description*."
   ]
  },
  {
   "cell_type": "code",
   "execution_count": 21,
   "metadata": {},
   "outputs": [],
   "source": [
    "def template_function():\n",
    "    #YOUR CODE HERE\n",
    "    talk('replace this string with what you want the virtual assistant to say')\n",
    "commands_dict['keyword(s) in speech'] = template_function"
   ]
  },
  {
   "cell_type": "markdown",
   "metadata": {},
   "source": [
    "### repeat_cmd()\n",
    "\n",
    "Author: **LawrenceLCTY** (lawrencechiengtzeyao@gmail.com)\n",
    "\n",
    "Description: \n",
    "> The default command called when no commands match the input speech."
   ]
  },
  {
   "cell_type": "code",
   "execution_count": 22,
   "metadata": {},
   "outputs": [],
   "source": [
    "def repeat_cmd():\n",
    "    talk('Please say the command again.')\n",
    "commands_dict['repeat_cmd'] = repeat_cmd"
   ]
  },
  {
   "cell_type": "markdown",
   "metadata": {},
   "source": [
    "### bye()\n",
    "\n",
    "Author: **LawrenceLCTY** (lawrencechiengtzeyao@gmail.com)\n",
    "\n",
    "Description: \n",
    "> Command to end Virtual Assistant program."
   ]
  },
  {
   "cell_type": "code",
   "execution_count": 23,
   "metadata": {},
   "outputs": [],
   "source": [
    "def bye():\n",
    "    talk('Goodbye.')\n",
    "    sys.exit()\n",
    "commands_dict['bye'] = bye"
   ]
  },
  {
   "attachments": {},
   "cell_type": "markdown",
   "metadata": {},
   "source": [
    "### marriage()\n",
    "\n",
    "Author: **NAIM WIRDAS BIN NAZARUDIN** (u2100937@siswa.um.edu.my)\n",
    "\n",
    "Description: \n",
    "> Ask Alexa if she wants to marry you."
   ]
  },
  {
   "cell_type": "code",
   "execution_count": null,
   "metadata": {},
   "outputs": [],
   "source": [
    "def marriage():\n",
    "    talk('YES, I want to marry you sayang')\n",
    "commands_dict['marry me'] = marriage"
   ]
  },
  {
   "cell_type": "code",
   "execution_count": null,
   "metadata": {},
   "outputs": [],
   "source": [
    "while True:\n",
    "    run_alexa()"
   ]
  }
 ],
 "metadata": {
  "kernelspec": {
   "display_name": "Python 3.10.4 64-bit",
   "language": "python",
   "name": "python3"
  },
  "language_info": {
   "codemirror_mode": {
    "name": "ipython",
    "version": 3
   },
   "file_extension": ".py",
   "mimetype": "text/x-python",
   "name": "python",
   "nbconvert_exporter": "python",
   "pygments_lexer": "ipython3",
   "version": "3.10.4"
  },
  "orig_nbformat": 4,
  "vscode": {
   "interpreter": {
    "hash": "2a7fba9a6c0a950abf365867c7e624f8835f59819b1807f4657be83de120bbe8"
   }
  }
 },
 "nbformat": 4,
 "nbformat_minor": 2
}

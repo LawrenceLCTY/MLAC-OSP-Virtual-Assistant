{
 "cells": [
  {
   "cell_type": "markdown",
   "metadata": {},
   "source": [
    "Readme.md"
   ]
  },
  {
   "cell_type": "markdown",
   "metadata": {},
   "source": [
    "Install packages"
   ]
  },
  {
   "cell_type": "code",
   "execution_count": null,
   "metadata": {},
   "outputs": [],
   "source": [
    "!pip3 install speechRecognition\n",
    "!pip3 install pyttsx3\n",
    "!pip3 install pywhatkit\n",
    "!pip3 install wikipedia\n",
    "!pip3 install pyjokes\n",
    "!pip3 install pyAudio\n",
    "!pip3 install webbrowser\n",
    "!pip3 install requests"
   ]
  },
  {
   "cell_type": "markdown",
   "metadata": {},
   "source": [
    "Import libraries"
   ]
  },
  {
   "cell_type": "code",
   "execution_count": 41,
   "metadata": {},
   "outputs": [],
   "source": [
    "import speech_recognition as sr\n",
    "import pyttsx3\n",
    "import pywhatkit\n",
    "import time\n",
    "import wikipedia\n",
    "import pyjokes\n",
    "import sys\n",
    "import webbrowser\n",
    "import random\n",
    "import requests\n",
    "import json\n",
    "import subprocess\n",
    "import csv\n",
    "from datetime import datetime, timedelta"
   ]
  },
  {
   "cell_type": "markdown",
   "metadata": {},
   "source": [
    "Voice AI Setup"
   ]
  },
  {
   "cell_type": "code",
   "execution_count": 3,
   "metadata": {},
   "outputs": [],
   "source": [
    "listener = sr.Recognizer()\n",
    "engine = pyttsx3.init()\n",
    "voices = engine.getProperty('voices')\n",
    "engine.setProperty('voice', voices[1].id)\n",
    "commands_dict = {}"
   ]
  },
  {
   "cell_type": "markdown",
   "metadata": {},
   "source": [
    "AI core functions"
   ]
  },
  {
   "cell_type": "code",
   "execution_count": 42,
   "metadata": {},
   "outputs": [],
   "source": [
    "def talk(text):\n",
    "    print(text)\n",
    "    engine.say(text)\n",
    "    engine.runAndWait()\n",
    "\n",
    "\n",
    "def take_command():\n",
    "    try:\n",
    "        with sr.Microphone() as source:\n",
    "            print('listening...')\n",
    "            voice = listener.listen(source)\n",
    "            command = listener.recognize_google(voice)\n",
    "            command = command.lower()\n",
    "            if 'alexa' in command:\n",
    "                command = command.replace('alexa', '')\n",
    "                print(command)\n",
    "    except:\n",
    "        command = ''\n",
    "    return command\n",
    "\n",
    "def run_alexa():\n",
    "    talk('How can I help you?')\n",
    "    # command = take_command()\n",
    "    command = input()\n",
    "    found = False\n",
    "    for keyword in commands_dict:\n",
    "        if keyword in command: \n",
    "            try:\n",
    "                commands_dict[keyword]()\n",
    "            except TypeError: #take function with 0 or 1 parameters\n",
    "                commands_dict[keyword](command)\n",
    "            found = True\n",
    "    if not found:\n",
    "        commands_dict['repeat_cmd']()\n",
    "    time.sleep(1) #brief pause between commands\n"
   ]
  },
  {
   "cell_type": "markdown",
   "metadata": {},
   "source": [
    "### *function_template()*\n",
    "\n",
    "Author: ***Your_Name*** (*your_email@youremail.com*)\n",
    "\n",
    "Description: \n",
    "> *Duplicate this markdown cell and change the **italicised** contents with your credentials and function description*."
   ]
  },
  {
   "cell_type": "code",
   "execution_count": 5,
   "metadata": {},
   "outputs": [],
   "source": [
    "def template_function():\n",
    "    #YOUR CODE HERE\n",
    "    talk('replace this string with what you want the virtual assistant to say')\n",
    "commands_dict['keyword(s) in speech'] = template_function"
   ]
  },
  {
   "cell_type": "markdown",
   "metadata": {},
   "source": [
    "### repeat_cmd()\n",
    "\n",
    "Author: **LawrenceLCTY** (lawrencechiengtzeyao@gmail.com)\n",
    "\n",
    "Description: \n",
    "> The default command called when no commands match the input speech."
   ]
  },
  {
   "cell_type": "code",
   "execution_count": 6,
   "metadata": {},
   "outputs": [],
   "source": [
    "def repeat_cmd():\n",
    "    talk('Please say the command again.')\n",
    "commands_dict['repeat_cmd'] = repeat_cmd"
   ]
  },
  {
   "cell_type": "markdown",
   "metadata": {},
   "source": [
    "### bye()\n",
    "\n",
    "Author: **LawrenceLCTY** (lawrencechiengtzeyao@gmail.com)\n",
    "\n",
    "Description: \n",
    "> Command to end Virtual Assistant program."
   ]
  },
  {
   "cell_type": "code",
   "execution_count": 7,
   "metadata": {},
   "outputs": [],
   "source": [
    "def bye():\n",
    "    talk('Goodbye.')\n",
    "    sys.exit()\n",
    "commands_dict['bye'] = bye"
   ]
  },
  {
   "attachments": {},
   "cell_type": "markdown",
   "metadata": {},
   "source": [
    "### play()\n",
    "\n",
    "Author: **Hong Jing Xuan** (22004827@siswa.um.edu.my)\n",
    "\n",
    "Description: \n",
    "> to play song on youtube."
   ]
  },
  {
   "cell_type": "code",
   "execution_count": 8,
   "metadata": {},
   "outputs": [],
   "source": [
    "def play(command):\n",
    "    song=command.replace('play','')\n",
    "    talk('playing' +song)\n",
    "    pywhatkit.playonyt(song)\n",
    "commands_dict['play'] = play"
   ]
  },
  {
   "attachments": {},
   "cell_type": "markdown",
   "metadata": {},
   "source": [
    "### love()\n",
    "\n",
    "Author: **LIM KAR WENG** (22004879@siswa.um.edu.my)\n",
    "\n",
    "Description: \n",
    "> It makes the bot execute the function love when \"love\" speech is detected"
   ]
  },
  {
   "cell_type": "code",
   "execution_count": 9,
   "metadata": {},
   "outputs": [],
   "source": [
    "def love():\n",
    "    talk('I really love machine learning.')\n",
    "\n",
    "commands_dict['love'] = love"
   ]
  },
  {
   "attachments": {},
   "cell_type": "markdown",
   "metadata": {},
   "source": [
    "### msia_pm()\n",
    "\n",
    "Author: **Joshua Lim Chiew Khoon** (jlck1@outlook.com)\n",
    "\n",
    "Description: \n",
    "> Has virtual assistant say \"Anwar Ibrahim\" when \"current Malaysia prime minister\" keyword is present in speech."
   ]
  },
  {
   "cell_type": "code",
   "execution_count": 10,
   "metadata": {},
   "outputs": [],
   "source": [
    "def msia_pm():\n",
    "    talk('Anwar Ibrahim')\n",
    "    \n",
    "commands_dict['current Malaysia prime minister'] = msia_pm"
   ]
  },
  {
   "attachments": {},
   "cell_type": "markdown",
   "metadata": {},
   "source": [
    "### pickupline()\n",
    "\n",
    "Authors: \n",
    "- **Wan Ahmad Lutfi Bin Wan Azinuddin** (u2101912@siswa.um.edu.my)\n",
    "- **Ooi Wei Ying** (ooiweiying6211@gmail.com)\n",
    "\n",
    "Description: \n",
    "> Let Alexa to tell a pickup line."
   ]
  },
  {
   "cell_type": "code",
   "execution_count": 11,
   "metadata": {},
   "outputs": [],
   "source": [
    "pickuplines = ['A life without you, would be like a computer without an OS.', 'My mom said she found a beautiful and intelligent girl for me. Is that you?']\n",
    "\n",
    "def pickupline():\n",
    "    talk(random.choice(pickuplines))\n",
    "commands_dict['pickupline'] = commands_dict['flirty pick-up lines to try on crush'] = pickupline"
   ]
  },
  {
   "attachments": {},
   "cell_type": "markdown",
   "metadata": {},
   "source": [
    "### marriage()\n",
    "\n",
    "Author: **NAIM WIRDAS BIN NAZARUDIN** (u2100937@siswa.um.edu.my)\n",
    "\n",
    "Description: \n",
    "> Ask Alexa if she wants to marry you."
   ]
  },
  {
   "cell_type": "code",
   "execution_count": 12,
   "metadata": {},
   "outputs": [],
   "source": [
    "def marriage():\n",
    "    talk('YES, I want to marry you sayang')\n",
    "commands_dict['marry me'] = marriage"
   ]
  },
  {
   "attachments": {},
   "cell_type": "markdown",
   "metadata": {},
   "source": [
    "### friend()\n",
    "\n",
    "Author: **Rudzaidan Bin Rosli @ Rosdi** (U2002236@siswa.um.edu.my)\n",
    "\n",
    "Description: \n",
    "> It's a code for Alexa to aggressively mention that nobody wants to be friends with you <3"
   ]
  },
  {
   "cell_type": "code",
   "execution_count": 13,
   "metadata": {},
   "outputs": [],
   "source": [
    "def friend():\n",
    "  talk('Who would want to be friends with a loser like u lol')\n",
    "commands_dict['be friends'] = friend"
   ]
  },
  {
   "attachments": {},
   "cell_type": "markdown",
   "metadata": {},
   "source": [
    "### assignment()\n",
    "\n",
    "Author: **Law Zhen Min** (ahchunlaw@gmail.com)\n",
    "\n",
    "Description: \n",
    "> Answer for any question regarding their assignment."
   ]
  },
  {
   "cell_type": "code",
   "execution_count": 14,
   "metadata": {},
   "outputs": [],
   "source": [
    "def assignment():\n",
    "    talk(\"Go ask my senior google.\")\n",
    "\n",
    "commands_dict['assignment'] = commands_dict['homework'] = assignment"
   ]
  },
  {
   "attachments": {},
   "cell_type": "markdown",
   "metadata": {},
   "source": [
    "### time()\n",
    "\n",
    "Author: **JOANNE LIM ZI XUAN** (joannelimzixuan@gmail.com)\n",
    "\n",
    "Description: \n",
    "> Command to tell the time"
   ]
  },
  {
   "cell_type": "code",
   "execution_count": 15,
   "metadata": {},
   "outputs": [],
   "source": [
    "def time():\n",
    "    time = datetime.datetime.now().strftime('%I:%M %p')\n",
    "    talk('Current time is ' + time)\n",
    "\n",
    "commands_dict['time'] = time"
   ]
  },
  {
   "attachments": {},
   "cell_type": "markdown",
   "metadata": {},
   "source": [
    "### UM()\n",
    "\n",
    "Author: **Gan Serene** (yibuvee@gmail.com)\n",
    "\n",
    "Description: \n",
    "> say \"is one\" when detect \"UM\""
   ]
  },
  {
   "cell_type": "code",
   "execution_count": 16,
   "metadata": {},
   "outputs": [],
   "source": [
    "def UM():\n",
    "    talk('is one')\n",
    "\n",
    "commands_dict['U M'] = UM"
   ]
  },
  {
   "attachments": {},
   "cell_type": "markdown",
   "metadata": {},
   "source": [
    "### meet()\n",
    "\n",
    "Author: **WONG XIU HUAN** (xiuhuan545@gmail.com)\n",
    "\n",
    "Description: \n",
    "> I say \"Nice to meet you\" and will get back answer \"Me too\"."
   ]
  },
  {
   "cell_type": "code",
   "execution_count": 17,
   "metadata": {},
   "outputs": [],
   "source": [
    "def meet():\n",
    "    talk('Me too.')\n",
    "    \n",
    "commands_dict['Nice to meet you'] = meet"
   ]
  },
  {
   "attachments": {},
   "cell_type": "markdown",
   "metadata": {},
   "source": [
    "### open_google()\n",
    "\n",
    "Author: **CHAI YU XUAN** (yxuannchai@gmail.com)\n",
    "\n",
    "Description: \n",
    "> Command to open Google"
   ]
  },
  {
   "cell_type": "code",
   "execution_count": 18,
   "metadata": {},
   "outputs": [],
   "source": [
    "def open_google():\n",
    "    talk('Opening Google.')\n",
    "    webbrowser.open('www.google.com')\n",
    "\n",
    "commands_dict['open google'] = open_google"
   ]
  },
  {
   "attachments": {},
   "cell_type": "markdown",
   "metadata": {},
   "source": [
    "### happy_birthday()\n",
    "\n",
    "Author: **GOH YU HENG** (22004880@siswa.um.edu.my)\n",
    "\n",
    "Description: \n",
    "> When the user say that today is his birthday, it will say happy birthday and wish you hava a nice day."
   ]
  },
  {
   "cell_type": "code",
   "execution_count": 19,
   "metadata": {},
   "outputs": [],
   "source": [
    "def happy_birthday():\n",
    "    talk('Happy Birthday and wish you have a nice day')\n",
    "\n",
    "commands_dict['Today is my birthday '] = happy_birthday"
   ]
  },
  {
   "attachments": {},
   "cell_type": "markdown",
   "metadata": {},
   "source": [
    "### write_a_note()\n",
    "\n",
    "Author: **Lee Pei Hui** (22004781@siswa.um.edu.my)\n",
    "\n",
    "Description: \n",
    "> This code take command and write a note."
   ]
  },
  {
   "cell_type": "code",
   "execution_count": 20,
   "metadata": {},
   "outputs": [],
   "source": [
    "def write_a_note():\n",
    "    talk(\"What should i write?\")\n",
    "    note = take_command()\n",
    "    file = open('jarvis.txt', 'w')\n",
    "    talk(\"Should i include date and time?\")\n",
    "    snfm = take_command()\n",
    "    if 'yes' in snfm or 'sure' in snfm:\n",
    "        strTime = datetime.datetime.now().strftime(\"%d/%m/%Y(%a) %H:%M:%S\")\n",
    "        file.write(strTime + \" :- \")\n",
    "    file.write(note)\n",
    "    file.close()\n",
    "    talk(\"Note written.\")\n",
    "    \n",
    "commands_dict['write a note'] = write_a_note"
   ]
  },
  {
   "attachments": {},
   "cell_type": "markdown",
   "metadata": {},
   "source": [
    "### age()\n",
    "\n",
    "Author: **Looi Yu Heng** (looiyuheng1234@gmail.com)\n",
    "\n",
    "Description: \n",
    "> Respond the age when user ask."
   ]
  },
  {
   "cell_type": "code",
   "execution_count": 21,
   "metadata": {},
   "outputs": [],
   "source": [
    "def age():\n",
    "    talk('I am always 18 years old.')\n",
    "\n",
    "commands_dict['your age'] = age"
   ]
  },
  {
   "attachments": {},
   "cell_type": "markdown",
   "metadata": {},
   "source": [
    "### learn_spanish()\n",
    "\n",
    "Author: **TIEW CHEE YAN** (tiewcheeyan@gmail.com)\n",
    "\n",
    "Description: \n",
    ">  Command to translate and say hello and how are you in spanish to user."
   ]
  },
  {
   "cell_type": "code",
   "execution_count": 22,
   "metadata": {},
   "outputs": [],
   "source": [
    "def learn_spanish( ):\n",
    "   talk('Hola, ¿cómo estás?')\n",
    "\n",
    "commands_dict['How to say hello and how are you in spanish'] = learn_spanish"
   ]
  },
  {
   "attachments": {},
   "cell_type": "markdown",
   "metadata": {},
   "source": [
    "### greeting()\n",
    "\n",
    "Author: **HON YAO ZHI** (22004845@siswa.um.edu.my)\n",
    "\n",
    "Description: \n",
    ">  Command for greeting."
   ]
  },
  {
   "cell_type": "code",
   "execution_count": 23,
   "metadata": {},
   "outputs": [],
   "source": [
    "def greeting():\n",
    "    talk(\"I have been waiting For you. What's new ?\")\n",
    "\n",
    "commands_dict['I am back'] = greeting"
   ]
  },
  {
   "attachments": {},
   "cell_type": "markdown",
   "metadata": {},
   "source": [
    "### joke()\n",
    "\n",
    "Author: **HON YAO ZHI** (22004845@siswa.um.edu.my)\n",
    "\n",
    "Description: \n",
    "> Command to share a joke.\n"
   ]
  },
  {
   "cell_type": "code",
   "execution_count": 24,
   "metadata": {},
   "outputs": [],
   "source": [
    "def joke():\n",
    "    talk(\"You are the joke.\")\n",
    "    \n",
    "commands_dict['Tell me a joke'] = joke"
   ]
  },
  {
   "attachments": {},
   "cell_type": "markdown",
   "metadata": {},
   "source": [
    "### encourage()\n",
    "\n",
    "Author: **TAN YI SHAN** (22004867@siswa.um.edu.my)\n",
    "\n",
    "Description: \n",
    "> It will encourage the user once the user lose or fail from the competitions or exams."
   ]
  },
  {
   "cell_type": "code",
   "execution_count": 25,
   "metadata": {},
   "outputs": [],
   "source": [
    "def encourage():\n",
    "\ttalk('You can do better next time.')\n",
    " \n",
    "commands_dict['lose'] = commands_dict['fail'] = encourage"
   ]
  },
  {
   "attachments": {},
   "cell_type": "markdown",
   "metadata": {},
   "source": [
    "### tired()\n",
    "\n",
    "Author: **ERIC LEE CHUN KIAT** (ericlee0485@gmail.com)\n",
    "\n",
    "Description: \n",
    "> when it hears \"i am so tired\" from user, it will say \"have a good rest.\""
   ]
  },
  {
   "cell_type": "code",
   "execution_count": 26,
   "metadata": {},
   "outputs": [],
   "source": [
    "def tired():\n",
    "    talk(\"have a good rest.\")\n",
    "\n",
    "commands_dict['i am so tired'] = tired"
   ]
  },
  {
   "attachments": {},
   "cell_type": "markdown",
   "metadata": {},
   "source": [
    "### spin_the_wheel()\n",
    "\n",
    "Author: **James Tok Chun Sean** (jamestok2000@gmail.com)\n",
    "\n",
    "Description: \n",
    "> To solve \"What to eat?\" argument"
   ]
  },
  {
   "cell_type": "code",
   "execution_count": 27,
   "metadata": {},
   "outputs": [],
   "source": [
    "def spin_the_wheel():\n",
    "  food = [\"Soup\", \"Stew\", \"Taco\", \"Thai\", \"Burger\", \"Pizza\", \"Sushi\", \"Grill\", \"Salad\",\n",
    "          \"Pasta\", \"BBQ\", \"Chinese\", \"Steak\", \"Sandwich\"]\n",
    "  talk(\"I'd recommend \" + random.choice(food))\n",
    "  \n",
    "commands_dict['what to eat'] = spin_the_wheel"
   ]
  },
  {
   "attachments": {},
   "cell_type": "markdown",
   "metadata": {},
   "source": [
    "### skycolour()\n",
    "\n",
    "Author: **Dominic Chong Rong Yau** (rydominicchong@gmail.com)\n",
    "\n",
    "Description: \n",
    "> Command for colour of sky"
   ]
  },
  {
   "cell_type": "code",
   "execution_count": 28,
   "metadata": {},
   "outputs": [],
   "source": [
    "def skycolour():\n",
    "  talk(\"The sky is blue\")\n",
    "  \n",
    "commands_dict['colour of sky'] = commands_dict['color of sky'] = skycolour"
   ]
  },
  {
   "attachments": {},
   "cell_type": "markdown",
   "metadata": {},
   "source": [
    "### bored()\n",
    "\n",
    "Author: **Ariq Athallah Budi Ramdhany** (ariqathallah38@gmail.com)\n",
    "\n",
    "Description: \n",
    "> Call the `boredapi` to get suggestions on what to do"
   ]
  },
  {
   "cell_type": "code",
   "execution_count": 29,
   "metadata": {},
   "outputs": [],
   "source": [
    "def bored():\n",
    "    response = requests.get(\"https://www.boredapi.com/api/activity\")\n",
    "    decoded = response.content.decode('utf-8')\n",
    "    dicted = json.loads(decoded)\n",
    "    talk(dicted['activity'])\n",
    "\n",
    "commands_dict['bored'] = bored"
   ]
  },
  {
   "attachments": {},
   "cell_type": "markdown",
   "metadata": {},
   "source": [
    "### how_are_you()\n",
    "\n",
    "Author: **Ooi Yi Jing** (22004875@siswa.um.edu.my)\n",
    "\n",
    "Description: \n",
    "> This code enable Alexa to randomly reply with different ways when the user greets \"How are you\"."
   ]
  },
  {
   "cell_type": "code",
   "execution_count": 30,
   "metadata": {},
   "outputs": [],
   "source": [
    "def how_are_you():\n",
    "    greetings = [\"Thanks for asking. I'm doing well.\",\"Things are great.\",\"I'm looking forward to the end of the pandemic.\", \"It has been a rough week.\",\"Not too bad.\",\"I'm good.\"]\n",
    "    talk(random.choice(greetings))\n",
    "\n",
    "commands_dict['how are you'] = how_are_you"
   ]
  },
  {
   "attachments": {},
   "cell_type": "markdown",
   "metadata": {},
   "source": [
    "### christmas()\n",
    "\n",
    "Author: **TAN YAN HO** (tanyanho123@gmail.com)\n",
    "\n",
    "Description: \n",
    "> The code defines a function called 'christmas' that has a single line called 'talk' that will talk 'Merry Christmas' as the output when the function of 'christmas' is called."
   ]
  },
  {
   "cell_type": "code",
   "execution_count": 31,
   "metadata": {},
   "outputs": [],
   "source": [
    "def christmas():\n",
    "    talk('Merry Christmas')\n",
    "\n",
    "commands_dict['christmas'] = christmas"
   ]
  },
  {
   "attachments": {},
   "cell_type": "markdown",
   "metadata": {},
   "source": [
    "### bestfriend()\n",
    "\n",
    "Author: **Nuh Akmal Bin Mohammad** (u2001135@siswa.um.edu.my)\n",
    "\n",
    "Description: \n",
    "> when you write '\"lets be best friends\", the bot will reply \"Nope. I cannot be your best friend\""
   ]
  },
  {
   "cell_type": "code",
   "execution_count": 32,
   "metadata": {},
   "outputs": [],
   "source": [
    "def bestfriend():\n",
    "  talk('Nope. I cannot be be your best friend.')\n",
    "commands_dict['lets be best friends'] = bestfriend"
   ]
  },
  {
   "attachments": {},
   "cell_type": "markdown",
   "metadata": {},
   "source": [
    "### hello()\n",
    "\n",
    "Author: **TAN YING SHAN** (tanyingshan129@gmail.com)\n",
    "\n",
    "Description: \n",
    "> When alexa receive the 'hello' command, it will display \"Good morning\", \"Good afternoon\" or \"Good evening\" according to current time."
   ]
  },
  {
   "cell_type": "code",
   "execution_count": 33,
   "metadata": {},
   "outputs": [],
   "source": [
    "def hello():\n",
    "    hour = datetime.datetime.now().hour\n",
    "    if hour >= 0 and hour < 12:\n",
    "        talk(\"Good Morning\")\n",
    "    elif hour >= 12 and hour < 18:\n",
    "        talk(\"Good Afternoon\")\n",
    "    else:\n",
    "        talk(\"Good Evening\")\n",
    "        \n",
    "commands_dict['hello'] = hello"
   ]
  },
  {
   "attachments": {},
   "cell_type": "markdown",
   "metadata": {},
   "source": [
    "### thanksgiving()\n",
    "\n",
    "Author: **CINDY HII JIN YING** (22004738@siswa.um.edu.my)\n",
    "\n",
    "Description: \n",
    "> user says \"mom and dad\" and it will say the thanksgiving quotes."
   ]
  },
  {
   "cell_type": "code",
   "execution_count": 34,
   "metadata": {},
   "outputs": [],
   "source": [
    "def thanksgiving():\n",
    "    talk('Thankiu for everything. You lead me to young age together, and I lead you to old age together. Luv u')\n",
    "\n",
    "commands_dict['Dad and Mom'] = thanksgiving"
   ]
  },
  {
   "attachments": {},
   "cell_type": "markdown",
   "metadata": {},
   "source": [
    "### city_to_visit()\n",
    "\n",
    "Author: **CARMEN LAM KAH MAN** (22004792@siswa.um.edu.my)\n",
    "\n",
    "Description: \n",
    "> This code enables Alexa to randomly suggest a city to visit when the user mentions \"amazing city to visit\"."
   ]
  },
  {
   "cell_type": "code",
   "execution_count": 46,
   "metadata": {},
   "outputs": [],
   "source": [
    "def city_to_visit():\n",
    "    cities = [\"Paris\",\"New York\",\"Tokyo\", \"Beijing\",\"Bangkok\",\"Sydney\",\"London\",\"Berlin\",\"Seoul\",\"Taipei\",\"Dubai\",\"Barcelona\",\"Venice\",\"Amsterdam\"]\n",
    "    talk(random.choice(cities))\n",
    "\n",
    "commands_dict['amazing city to visit'] = city_to_visit"
   ]
  },
  {
   "attachments": {},
   "cell_type": "markdown",
   "metadata": {},
   "source": [
    "### CALENDAR\n",
    "\n",
    "Author: **Soo Jie Ying** (soojieying3617@gmail.com)\n",
    "\n",
    "Description: \n",
    "> Creating a method named 'is_free' to check if the owner is free on a specified date and time."
   ]
  },
  {
   "cell_type": "code",
   "execution_count": null,
   "metadata": {},
   "outputs": [],
   "source": [
    "CALENDAR_FILE = \"calendar.csv\"\n",
    "\n",
    "# To load the calendar from calendar csv file\n",
    "def load_calendar():\n",
    "    calendar = {}\n",
    "    with open(CALENDAR_FILE, \"r\") as f:\n",
    "        reader = csv.reader(f)\n",
    "        for row in reader:\n",
    "            date_str = row[0]\n",
    "            event_times = row[1:]\n",
    "            calendar[date_str] = event_times\n",
    "    return calendar\n",
    "\n",
    "# To update the calendar after user add/remove event date and time\n",
    "def save_calendar(calendar):\n",
    "    with open(CALENDAR_FILE, \"w\", newline='') as f:\n",
    "        writer = csv.writer(f)\n",
    "        for date_str, event_times in calendar.items():\n",
    "            row = [date_str] + event_times\n",
    "            writer.writerow(row)\n",
    "\n",
    "# To check if the user is free on the specified date and time.\n",
    "def is_free():\n",
    "    # Load the calendar and prompt user to enter the date and time to check.\n",
    "    calendar = load_calendar()\n",
    "    date_str = input(\"Enter the date to check in YYYY-MM-DD format: \")\n",
    "    time_str = input(\"Enter the time to check in HH:MM format: \")\n",
    "    # Convert date and time strings to datetime objects\n",
    "    date_obj = datetime.strptime(date_str, '%Y-%m-%d')\n",
    "    time_obj = datetime.strptime(time_str, '%H:%M')\n",
    "\n",
    "    # Check if the specified time conflicts with any scheduled events\n",
    "    if any(date_str == event_date for event_date in calendar.keys()):\n",
    "        # Date is in the calendar\n",
    "        # Check if the specified time conflicts with any scheduled events\n",
    "        for event_time in calendar[date_str]:\n",
    "            start_time, end_time = event_time.split('-')\n",
    "            start_obj = datetime.strptime(start_time, '%H:%M')\n",
    "            end_obj = datetime.strptime(end_time, '%H:%M')\n",
    "            if time_obj >= start_obj and time_obj < end_obj:\n",
    "                talk(\"You are busy on {0} at {1}.\".format(date_str, time_str))\n",
    "                return False\n",
    "    #Date is not in calendar and no clashes found\n",
    "    talk(\"You are free on {0} at {1}.\".format(date_str, time_str))\n",
    "    return True\n",
    "commands_dict['check time'] = is_free\n",
    "\n",
    "# To add event date and time to calendar\n",
    "def add_event_command():\n",
    "    date_str = input(\"Enter the date in YYYY-MM-DD format: \")\n",
    "    event_time = input(\"Enter the event start and end times in HH:MM-HH:MM format: \")\n",
    "\n",
    "    calendar = load_calendar()\n",
    "    if date_str not in calendar:\n",
    "        calendar[date_str] = []\n",
    "    calendar[date_str].append(event_time)\n",
    "    save_calendar(calendar)\n",
    "\n",
    "    talk(\"Event added successfully!\")\n",
    "commands_dict['add event'] = add_event_command\n",
    "\n",
    "# To remove event date and time to calendar\n",
    "def remove_event_command():\n",
    "    date_str = input(\"Enter the date in YYYY-MM-DD format: \")\n",
    "    event_time = input(\"Enter the event start and end times in HH:MM-HH:MM format: \")\n",
    "\n",
    "    calendar = load_calendar()\n",
    "    if date_str not in calendar:\n",
    "        talk(\"No events found on that date.\")\n",
    "        return\n",
    "    if event_time not in calendar[date_str]:\n",
    "        talk(\"No events found at that time.\")\n",
    "        return\n",
    "    \n",
    "    calendar[date_str].remove(event_time)\n",
    "    save_calendar(calendar)\n",
    "    talk(\"Event removed successfully!\")\n",
    "commands_dict['remove event'] = remove_event_command\n",
    "\n"
   ]
  },
  {
   "attachments": {},
   "cell_type": "markdown",
   "metadata": {},
   "source": [
    "### generate_recommendations()\n",
    "\n",
    "Author: **Aireen Elzahraa binti Ahmad Aljafri** (u2100667@siswa.um.edu.my)\n",
    "\n",
    "Description: \n",
    "\n",
    "In this code, we define a dictionary items that contains items in different categories (music, books, movies, and restaurants). We also define a dictionary user_prefs that contains the user's past choices in each category.\n",
    "\n",
    "The generate_recommendations() function takes a category as input and generates a personalized recommendation for the user based on their past choices. If the user has not tried any items in the category, the function recommends a random item from the category. If the user has tried all the items in the category, the function recommends a random item.\n",
    "\n",
    "Finally, we call the generate_recommendations() function for each category and print the recommended items. You can modify this code to use real-world data and integrate it into your assistant project."
   ]
  },
  {
   "cell_type": "code",
   "execution_count": null,
   "metadata": {},
   "outputs": [],
   "source": [
    "# Define a dictionary of items with their categories\n",
    "items = {\n",
    "    \"music\": [\"pop\", \"rock\", \"jazz\", \"classical\", \"hip-hop\"],\n",
    "    \"books\": [\"mystery\", \"romance\", \"science fiction\", \"horror\", \"non-fiction\"],\n",
    "    \"movies\": [\"action\", \"comedy\", \"drama\", \"romance\", \"sci-fi\"],\n",
    "    \"restaurants\": [\"Italian\", \"Mexican\", \"Chinese\", \"Indian\", \"American\"]\n",
    "}\n",
    "\n",
    "# Define a dictionary of user preferences\n",
    "user_prefs = {\n",
    "    \"music\": [\"pop\"],\n",
    "    \"books\": [\"mystery\"],\n",
    "    \"movies\": [\"comedy\"],\n",
    "    \"restaurants\": [\"Italian\"]\n",
    "}\n",
    "\n",
    "# Define a function to generate personalized recommendations\n",
    "def generate_recommendations(category):\n",
    "    # Get the user's preferences for the given category\n",
    "    user_category_prefs = user_prefs[category]\n",
    "    \n",
    "    # Get a list of items in the given category that the user has not tried yet\n",
    "    untried_items = list(set(items[category]) - set(user_category_prefs))\n",
    "    \n",
    "    if len(untried_items) > 0:\n",
    "        # If there are untried items, recommend a random item from the list\n",
    "        recommended_item = random.choice(untried_items)\n",
    "        user_prefs[category].append(recommended_item)\n",
    "    else:\n",
    "        # If the user has tried all the items in the category, recommend a random item\n",
    "        recommended_item = random.choice(items[category])\n",
    "    \n",
    "    talk(f\"{category} recommendation: {recommended_item}\")\n",
    "\n",
    "# Generate personalized recommendations for the user\n",
    "commands_dict['recommend music'] = generate_recommendations(\"music\")\n",
    "commands_dict['recommend books'] = generate_recommendations(\"books\")\n",
    "commands_dict['recommend movies'] = generate_recommendations(\"movies\")\n",
    "commands_dict['recommend restaurants'] = generate_recommendations(\"restaurants\")"
   ]
  },
  {
   "cell_type": "code",
   "execution_count": null,
   "metadata": {},
   "outputs": [],
   "source": [
    "while True:\n",
    "    run_alexa()"
   ]
  }
 ],
 "metadata": {
  "kernelspec": {
   "display_name": "Python 3.10.4 64-bit",
   "language": "python",
   "name": "python3"
  },
  "language_info": {
   "codemirror_mode": {
    "name": "ipython",
    "version": 3
   },
   "file_extension": ".py",
   "mimetype": "text/x-python",
   "name": "python",
   "nbconvert_exporter": "python",
   "pygments_lexer": "ipython3",
   "version": "3.11.2"
  },
  "orig_nbformat": 4,
  "vscode": {
   "interpreter": {
    "hash": "2a7fba9a6c0a950abf365867c7e624f8835f59819b1807f4657be83de120bbe8"
   }
  }
 },
 "nbformat": 4,
 "nbformat_minor": 2
}

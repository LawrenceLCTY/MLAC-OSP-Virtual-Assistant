{
 "cells": [
  {
   "cell_type": "markdown",
   "metadata": {},
   "source": [
    "Readme.md"
   ]
  },
  {
   "cell_type": "markdown",
   "metadata": {},
   "source": [
    "Install packages"
   ]
  },
  {
   "cell_type": "code",
   "execution_count": null,
   "metadata": {},
   "outputs": [],
   "source": [
    "!pip3 install speechRecognition\n",
    "!pip3 install pyttsx3\n",
    "!pip3 install pywhatkit\n",
    "!pip3 install wikipedia\n",
    "!pip3 install pyjokes\n",
    "!pip3 install pyAudio"
   ]
  },
  {
   "cell_type": "markdown",
   "metadata": {},
   "source": [
    "Import libraries"
   ]
  },
  {
   "cell_type": "code",
   "execution_count": 4,
   "metadata": {},
   "outputs": [],
   "source": [
    "import speech_recognition as sr\n",
    "import pyttsx3\n",
    "import pywhatkit\n",
    "import datetime\n",
    "import time\n",
    "import wikipedia\n",
    "import pyjokes\n",
    "import sys"
   ]
  },
  {
   "cell_type": "markdown",
   "metadata": {},
   "source": [
    "Voice AI Setup"
   ]
  },
  {
   "cell_type": "code",
   "execution_count": 5,
   "metadata": {},
   "outputs": [],
   "source": [
    "listener = sr.Recognizer()\n",
    "engine = pyttsx3.init()\n",
    "voices = engine.getProperty('voices')\n",
    "engine.setProperty('voice', voices[1].id)\n",
    "commands_dict = {}"
   ]
  },
  {
   "cell_type": "markdown",
   "metadata": {},
   "source": [
    "AI core functions"
   ]
  },
  {
   "cell_type": "code",
   "execution_count": 6,
   "metadata": {},
   "outputs": [],
   "source": [
    "def talk(text):\n",
    "    print(text)\n",
    "    engine.say(text)\n",
    "    engine.runAndWait()\n",
    "\n",
    "\n",
    "def take_command():\n",
    "    try:\n",
    "        with sr.Microphone() as source:\n",
    "            print('listening...')\n",
    "            voice = listener.listen(source)\n",
    "            command = listener.recognize_google(voice)\n",
    "            command = command.lower()\n",
    "            if 'alexa' in command:\n",
    "                command = command.replace('alexa', '')\n",
    "                print(command)\n",
    "    except:\n",
    "        command = ''\n",
    "    return command\n",
    "\n",
    "def run_alexa():\n",
    "    talk('How can I help you?')\n",
    "    command = take_command()\n",
    "    found = False\n",
    "    for keyword in commands_dict:\n",
    "        if keyword in command: \n",
    "            try:\n",
    "                commands_dict[keyword]()\n",
    "            except TypeError: #take function with 0 or 1 parameters\n",
    "                commands_dict[keyword](command)\n",
    "            found = True\n",
    "    if not found:\n",
    "        commands_dict['repeat_cmd']()\n",
    "    time.sleep(1) #brief pause between commands\n"
   ]
  },
  {
   "cell_type": "markdown",
   "metadata": {},
   "source": [
    "### *function_template()*\n",
    "\n",
    "Author: ***Your_Name*** (*your_email@youremail.com*)\n",
    "\n",
    "Description: \n",
    "> *Duplicate this markdown cell and change the **italicised** contents with your credentials and function description*."
   ]
  },
  {
   "cell_type": "code",
   "execution_count": 7,
   "metadata": {},
   "outputs": [],
   "source": [
    "def template_function():\n",
    "    #YOUR CODE HERE\n",
    "    talk('replace this string with what you want the virtual assistant to say')\n",
    "commands_dict['keyword(s) in speech'] = template_function"
   ]
  },
  {
   "cell_type": "markdown",
   "metadata": {},
   "source": [
    "### repeat_cmd()\n",
    "\n",
    "Author: **LawrenceLCTY** (lawrencechiengtzeyao@gmail.com)\n",
    "\n",
    "Description: \n",
    "> The default command called when no commands match the input speech."
   ]
  },
  {
   "cell_type": "code",
   "execution_count": 8,
   "metadata": {},
   "outputs": [],
   "source": [
    "def repeat_cmd():\n",
    "    talk('Please say the command again.')\n",
    "commands_dict['repeat_cmd'] = repeat_cmd"
   ]
  },
  {
   "cell_type": "markdown",
   "metadata": {},
   "source": [
    "### bye()\n",
    "\n",
    "Author: **LawrenceLCTY** (lawrencechiengtzeyao@gmail.com)\n",
    "\n",
    "Description: \n",
    "> Command to end Virtual Assistant program."
   ]
  },
  {
   "cell_type": "code",
   "execution_count": 9,
   "metadata": {},
   "outputs": [],
   "source": [
    "def bye():\n",
    "    talk('Goodbye.')\n",
    "    sys.exit()\n",
    "commands_dict['bye'] = bye"
   ]
  },
  {
   "attachments": {},
   "cell_type": "markdown",
   "metadata": {},
   "source": [
    "### play()\n",
    "\n",
    "Author: **Hong Jing Xuan** (22004827@siswa.um.edu.my)\n",
    "\n",
    "Description: \n",
    "> to play song on youtube."
   ]
  },
  {
   "cell_type": "code",
   "execution_count": 14,
   "metadata": {},
   "outputs": [],
   "source": [
    "def play(command):\n",
    "    song=command.replace('play','')\n",
    "    talk('playing' +song)\n",
    "    pywhatkit.playonyt(song)\n",
    "commands_dict['play'] = play"
   ]
  },
  {
   "attachments": {},
   "cell_type": "markdown",
   "metadata": {},
   "source": [
    "### love()\n",
    "\n",
    "Author: **LIM KAR WENG** (22004879@siswa.um.edu.my)\n",
    "\n",
    "Description: \n",
    "> It makes the bot execute the function love when \"love\" speech is detected"
   ]
  },
  {
   "cell_type": "code",
   "execution_count": null,
   "metadata": {},
   "outputs": [],
   "source": [
    "def love():\n",
    "    talk('I really love machine learning.')\n",
    "\n",
    "commands_dict['love'] = love"
   ]
  },
  {
   "attachments": {},
   "cell_type": "markdown",
   "metadata": {},
   "source": [
    "### msia_pm()\n",
    "\n",
    "Author: **Joshua Lim Chiew Khoon** (jlck1@outlook.com)\n",
    "\n",
    "Description: \n",
    "> Has virtual assistant say \"Anwar Ibrahim\" when \"current Malaysia prime minister\" keyword is present in speech."
   ]
  },
  {
   "cell_type": "code",
   "execution_count": null,
   "metadata": {},
   "outputs": [],
   "source": [
    "def msia_pm():\n",
    "    talk('Anwar Ibrahim')\n",
    "    \n",
    "commands_dict['current Malaysia prime minister'] = msia_pm"
   ]
  },
  {
   "attachments": {},
   "cell_type": "markdown",
   "metadata": {},
   "source": [
    "### pickupline()\n",
    "\n",
    "Author: **Wan Ahmad Lutfi Bin Wan Azinuddin** (u2101912@siswa.um.edu.my)\n",
    "\n",
    "Description: \n",
    "> Let Alexa to tell a pickup line."
   ]
  },
  {
   "cell_type": "code",
   "execution_count": null,
   "metadata": {},
   "outputs": [],
   "source": [
    "def pickupline():\n",
    "    talk('A life without you, would be like a computer without an OS.')\n",
    "commands_dict['pickupline'] = pickupline"
   ]
  },
  {
   "attachments": {},
   "cell_type": "markdown",
   "metadata": {},
   "source": [
    "### marriage()\n",
    "\n",
    "Author: **NAIM WIRDAS BIN NAZARUDIN** (u2100937@siswa.um.edu.my)\n",
    "\n",
    "Description: \n",
    "> Ask Alexa if she wants to marry you."
   ]
  },
  {
   "cell_type": "code",
   "execution_count": null,
   "metadata": {},
   "outputs": [],
   "source": [
    "def marriage():\n",
    "    talk('YES, I want to marry you sayang')\n",
    "commands_dict['marry me'] = marriage"
   ]
  },
  {
   "attachments": {},
   "cell_type": "markdown",
   "metadata": {},
   "source": [
    "### friend()\n",
    "\n",
    "Author: **Rudzaidan Bin Rosli @ Rosdi** (U2002236@siswa.um.edu.my)\n",
    "\n",
    "Description: \n",
    "> It's a code for Alexa to aggressively mention that nobody wants to be friends with you <3"
   ]
  },
  {
   "cell_type": "code",
   "execution_count": null,
   "metadata": {},
   "outputs": [],
   "source": [
    "def friend():\n",
    "  talk('Who would want to be friends with a loser like u lol')\n",
    "commands_dict['be friends'] = friend"
   ]
  },
  {
   "attachments": {},
   "cell_type": "markdown",
   "metadata": {},
   "source": [
    "### assignment()\n",
    "\n",
    "Author: **Law Zhen Min** (ahchunlaw@gmail.com)\n",
    "\n",
    "Description: \n",
    "> Answer for any question regarding their assignment."
   ]
  },
  {
   "cell_type": "code",
   "execution_count": null,
   "metadata": {},
   "outputs": [],
   "source": [
    "def assignment():\n",
    "    talk(\"Go ask my senior google.\")\n",
    "\n",
    "commands_dict['assignment'] = commands_dict['homework'] = assignment"
   ]
  },
  {
   "attachments": {},
   "cell_type": "markdown",
   "metadata": {},
   "source": [
    "### time()\n",
    "\n",
    "Author: **JOANNE LIM ZI XUAN** (joannelimzixuan@gmail.com)\n",
    "\n",
    "Description: \n",
    "> Command to tell the time"
   ]
  },
  {
   "cell_type": "code",
   "execution_count": null,
   "metadata": {},
   "outputs": [],
   "source": [
    "def time():\n",
    "    time = datetime.datetime.now().strftime(\"%d/%m/%Y(%a) %H:%M:%S\")\n",
    "\n",
    "commands_dict['time'] = time"
   ]
  },
  {
   "attachments": {},
   "cell_type": "markdown",
   "metadata": {},
   "source": [
    "### UM()\n",
    "\n",
    "Author: **Gan Serene** (yibuvee@gmail.com)\n",
    "\n",
    "Description: \n",
    "> say \"is one\" when detect \"UM\""
   ]
  },
  {
   "cell_type": "code",
   "execution_count": null,
   "metadata": {},
   "outputs": [],
   "source": [
    "def UM():\n",
    "    talk('is one')\n",
    "\n",
    "commands_dict['U M'] = UM"
   ]
  },
  {
   "attachments": {},
   "cell_type": "markdown",
   "metadata": {},
   "source": [
    "### meet()\n",
    "\n",
    "Author: **WONG XIU HUAN** (xiuhuan545@gmail.com)\n",
    "\n",
    "Description: \n",
    "> I say \"Nice to meet you\" and will get back answer \"Me too\"."
   ]
  },
  {
   "cell_type": "code",
   "execution_count": null,
   "metadata": {},
   "outputs": [],
   "source": [
    "def meet():\n",
    "    talk('Me too.')\n",
    "    \n",
    "commands_dict['Nice to meet you'] = meet"
   ]
  },
  {
   "cell_type": "code",
   "execution_count": null,
   "metadata": {},
   "outputs": [],
   "source": [
    "while True:\n",
    "    run_alexa()"
   ]
  }
 ],
 "metadata": {
  "kernelspec": {
   "display_name": "Python 3.10.4 64-bit",
   "language": "python",
   "name": "python3"
  },
  "language_info": {
   "codemirror_mode": {
    "name": "ipython",
    "version": 3
   },
   "file_extension": ".py",
   "mimetype": "text/x-python",
   "name": "python",
   "nbconvert_exporter": "python",
   "pygments_lexer": "ipython3",
   "version": "3.10.4"
  },
  "orig_nbformat": 4,
  "vscode": {
   "interpreter": {
    "hash": "2a7fba9a6c0a950abf365867c7e624f8835f59819b1807f4657be83de120bbe8"
   }
  }
 },
 "nbformat": 4,
 "nbformat_minor": 2
}
